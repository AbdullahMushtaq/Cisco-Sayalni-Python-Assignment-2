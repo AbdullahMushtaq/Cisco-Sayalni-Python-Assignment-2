{
 "cells": [
  {
   "cell_type": "markdown",
   "metadata": {},
   "source": [
    "1. Write a program which takes 5 inputs from user for different subject’s\n",
    "marks, total it and generate mark sheet using grades ?"
   ]
  },
  {
   "cell_type": "code",
   "execution_count": 1,
   "metadata": {},
   "outputs": [
    {
     "name": "stdout",
     "output_type": "stream",
     "text": [
      "Enter the student Number : 36\n",
      "Enter the student Number : 35\n",
      "Enter the student Number : 98\n",
      "Enter the student Number : 58\n",
      "Enter the student Number : 57\n",
      "total_number = 284\n",
      "percentage = 56.8\n",
      "fail\n"
     ]
    }
   ],
   "source": [
    "number=[]\n",
    "total_number=0;\n",
    "for i in range (5):\n",
    "    z=int(input(\"Enter the student Number : \"))\n",
    "  \n",
    "    number.append(z)\n",
    "    total_number=total_number+z\n",
    "\n",
    "print(\"total_number =\",total_number)  \n",
    "percentage=(total_number*100)/500\n",
    "print(\"percentage =\",percentage)\n",
    "if percentage>=90:\n",
    "    print(\"grade A\")\n",
    "elif percentage>=80:\n",
    "    print(\"grade B\")\n",
    "elif percentage>=70:\n",
    "    print(\"grade C\")    \n",
    "elif percentage>=60:\n",
    "    print(\"grade D\") \n",
    "else:\n",
    "    print(\"fail\")"
   ]
  },
  {
   "cell_type": "markdown",
   "metadata": {},
   "source": [
    "2. Write a program which take input from user and identify that the given\n",
    "number is even or odd?"
   ]
  },
  {
   "cell_type": "code",
   "execution_count": 3,
   "metadata": {},
   "outputs": [
    {
     "name": "stdout",
     "output_type": "stream",
     "text": [
      "enter number4\n",
      "even no\n"
     ]
    }
   ],
   "source": [
    "o=int(input(\"Enter any number\"))\n",
    "if o%2==0:\n",
    "    print(\"Even no\")\n",
    "else:\n",
    "    print(\"Odd no\")"
   ]
  },
  {
   "cell_type": "markdown",
   "metadata": {},
   "source": [
    "3. Write a program which print the length of the list?"
   ]
  },
  {
   "cell_type": "code",
   "execution_count": 5,
   "metadata": {},
   "outputs": [
    {
     "name": "stdout",
     "output_type": "stream",
     "text": [
      "5\n"
     ]
    }
   ],
   "source": [
    "list=[97,88,68,63,1000]\n",
    "print(len(list))"
   ]
  },
  {
   "cell_type": "markdown",
   "metadata": {},
   "source": [
    "4 Write a Python program to sum all the numeric items in a list?"
   ]
  },
  {
   "cell_type": "code",
   "execution_count": 6,
   "metadata": {},
   "outputs": [
    {
     "name": "stdout",
     "output_type": "stream",
     "text": [
      "Total of list : = 1316\n"
     ]
    }
   ],
   "source": [
    "list=[97,88,68,63,1000]\n",
    "x=len(list)\n",
    "Total=0\n",
    "for i in range (x):\n",
    "    Total=Total+list[i]\n",
    "print(\"Total of list : =\",Total)"
   ]
  },
  {
   "cell_type": "markdown",
   "metadata": {},
   "source": [
    "5 Write a Python program to get the largest number from a numeric list."
   ]
  },
  {
   "cell_type": "code",
   "execution_count": 7,
   "metadata": {},
   "outputs": [
    {
     "name": "stdout",
     "output_type": "stream",
     "text": [
      "1000\n"
     ]
    }
   ],
   "source": [
    "list=[97,88,68,63,1000]\n",
    "print(max(list))"
   ]
  },
  {
   "cell_type": "markdown",
   "metadata": {},
   "source": [
    "6. Take a list, say for example this one:\n",
    "a = [1, 1, 2, 3, 5, 8, 13, 21, 34, 55, 89]\n",
    "and write a program that prints out all the elements of the list that are\n",
    "less than 5."
   ]
  },
  {
   "cell_type": "code",
   "execution_count": 8,
   "metadata": {},
   "outputs": [
    {
     "name": "stdout",
     "output_type": "stream",
     "text": [
      "1\n",
      "1\n",
      "2\n",
      "3\n"
     ]
    }
   ],
   "source": [
    "list=[1,1,2,3,5,8,13,21,34,55,89]\n",
    "t=len(list)\n",
    "for i in range(t):\n",
    "    if list[i]<5:\n",
    "        print(list[i])"
   ]
  },
  {
   "cell_type": "code",
   "execution_count": null,
   "metadata": {},
   "outputs": [],
   "source": []
  }
 ],
 "metadata": {
  "kernelspec": {
   "display_name": "Python 3",
   "language": "python",
   "name": "python3"
  },
  "language_info": {
   "codemirror_mode": {
    "name": "ipython",
    "version": 3
   },
   "file_extension": ".py",
   "mimetype": "text/x-python",
   "name": "python",
   "nbconvert_exporter": "python",
   "pygments_lexer": "ipython3",
   "version": "3.7.3"
  }
 },
 "nbformat": 4,
 "nbformat_minor": 2
}
